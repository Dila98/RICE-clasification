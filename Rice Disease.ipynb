{
 "cells": [
  {
   "cell_type": "code",
   "execution_count": 36,
   "id": "ad1a9ecc-41c2-44f4-95ab-01d239c5c93f",
   "metadata": {},
   "outputs": [],
   "source": [
    "import numpy as np\n",
    "import pandas as pd\n",
    "import matplotlib.pyplot as plt\n",
    "import seaborn as sns\n",
    "import warnings\n",
    "warnings.filterwarnings('ignore')\n"
   ]
  },
  {
   "cell_type": "code",
   "execution_count": 37,
   "id": "c8adea93-9b02-4e93-8342-f7569133baa8",
   "metadata": {},
   "outputs": [],
   "source": [
    "import tensorflow as tf\n"
   ]
  },
  {
   "cell_type": "code",
   "execution_count": 38,
   "id": "fcced1df-67cb-407b-9186-fcd6e2544410",
   "metadata": {},
   "outputs": [
    {
     "data": {
      "text/html": [
       "<div>\n",
       "<style scoped>\n",
       "    .dataframe tbody tr th:only-of-type {\n",
       "        vertical-align: middle;\n",
       "    }\n",
       "\n",
       "    .dataframe tbody tr th {\n",
       "        vertical-align: top;\n",
       "    }\n",
       "\n",
       "    .dataframe thead th {\n",
       "        text-align: right;\n",
       "    }\n",
       "</style>\n",
       "<table border=\"1\" class=\"dataframe\">\n",
       "  <thead>\n",
       "    <tr style=\"text-align: right;\">\n",
       "      <th></th>\n",
       "      <th>image_id</th>\n",
       "      <th>label</th>\n",
       "      <th>variety</th>\n",
       "      <th>age</th>\n",
       "    </tr>\n",
       "  </thead>\n",
       "  <tbody>\n",
       "    <tr>\n",
       "      <th>0</th>\n",
       "      <td>100330.jpg</td>\n",
       "      <td>bacterial_leaf_blight</td>\n",
       "      <td>ADT45</td>\n",
       "      <td>45</td>\n",
       "    </tr>\n",
       "    <tr>\n",
       "      <th>1</th>\n",
       "      <td>100365.jpg</td>\n",
       "      <td>bacterial_leaf_blight</td>\n",
       "      <td>ADT45</td>\n",
       "      <td>45</td>\n",
       "    </tr>\n",
       "    <tr>\n",
       "      <th>2</th>\n",
       "      <td>100382.jpg</td>\n",
       "      <td>bacterial_leaf_blight</td>\n",
       "      <td>ADT45</td>\n",
       "      <td>45</td>\n",
       "    </tr>\n",
       "    <tr>\n",
       "      <th>3</th>\n",
       "      <td>100632.jpg</td>\n",
       "      <td>bacterial_leaf_blight</td>\n",
       "      <td>ADT45</td>\n",
       "      <td>45</td>\n",
       "    </tr>\n",
       "    <tr>\n",
       "      <th>4</th>\n",
       "      <td>101918.jpg</td>\n",
       "      <td>bacterial_leaf_blight</td>\n",
       "      <td>ADT45</td>\n",
       "      <td>45</td>\n",
       "    </tr>\n",
       "  </tbody>\n",
       "</table>\n",
       "</div>"
      ],
      "text/plain": [
       "     image_id                  label variety  age\n",
       "0  100330.jpg  bacterial_leaf_blight   ADT45   45\n",
       "1  100365.jpg  bacterial_leaf_blight   ADT45   45\n",
       "2  100382.jpg  bacterial_leaf_blight   ADT45   45\n",
       "3  100632.jpg  bacterial_leaf_blight   ADT45   45\n",
       "4  101918.jpg  bacterial_leaf_blight   ADT45   45"
      ]
     },
     "execution_count": 38,
     "metadata": {},
     "output_type": "execute_result"
    }
   ],
   "source": [
    "data = pd.read_csv('paddy-disease-classification/train.csv')\n",
    "data.head(5)"
   ]
  },
  {
   "cell_type": "code",
   "execution_count": 39,
   "id": "74676779-dd36-4529-99ad-19d047ba452c",
   "metadata": {},
   "outputs": [
    {
     "data": {
      "text/plain": [
       "(10407, 4)"
      ]
     },
     "execution_count": 39,
     "metadata": {},
     "output_type": "execute_result"
    }
   ],
   "source": [
    "data.shape"
   ]
  },
  {
   "cell_type": "code",
   "execution_count": 40,
   "id": "6c655cd2-fd5a-4e31-9eb4-16d2fa97c090",
   "metadata": {},
   "outputs": [
    {
     "data": {
      "text/plain": [
       "image_id    0\n",
       "label       0\n",
       "variety     0\n",
       "age         0\n",
       "dtype: int64"
      ]
     },
     "execution_count": 40,
     "metadata": {},
     "output_type": "execute_result"
    }
   ],
   "source": [
    "data.isnull().sum()"
   ]
  },
  {
   "cell_type": "code",
   "execution_count": 41,
   "id": "b266e78b-8327-4d90-80f1-58727baf420a",
   "metadata": {},
   "outputs": [
    {
     "name": "stdout",
     "output_type": "stream",
     "text": [
      "<class 'pandas.core.frame.DataFrame'>\n",
      "RangeIndex: 10407 entries, 0 to 10406\n",
      "Data columns (total 4 columns):\n",
      " #   Column    Non-Null Count  Dtype \n",
      "---  ------    --------------  ----- \n",
      " 0   image_id  10407 non-null  object\n",
      " 1   label     10407 non-null  object\n",
      " 2   variety   10407 non-null  object\n",
      " 3   age       10407 non-null  int64 \n",
      "dtypes: int64(1), object(3)\n",
      "memory usage: 325.3+ KB\n"
     ]
    }
   ],
   "source": [
    "data.info()"
   ]
  },
  {
   "cell_type": "code",
   "execution_count": 16,
   "id": "e10ffa33-544a-48b3-986c-ce92e441813f",
   "metadata": {},
   "outputs": [
    {
     "data": {
      "text/plain": [
       "array(['bacterial_leaf_blight', 'bacterial_leaf_streak',\n",
       "       'bacterial_panicle_blight', 'blast', 'brown_spot', 'dead_heart',\n",
       "       'downy_mildew', 'hispa', 'normal', 'tungro'], dtype=object)"
      ]
     },
     "execution_count": 16,
     "metadata": {},
     "output_type": "execute_result"
    }
   ],
   "source": [
    "data['label'].unique()\n",
    "\n"
   ]
  },
  {
   "cell_type": "code",
   "execution_count": 17,
   "id": "0b2b2798-9c45-4678-89af-0cb7bb6dc8b7",
   "metadata": {},
   "outputs": [
    {
     "data": {
      "text/plain": [
       "array(['ADT45', 'IR20', 'KarnatakaPonni', 'Onthanel', 'Ponni', 'Surya',\n",
       "       'Zonal', 'AndraPonni', 'AtchayaPonni', 'RR'], dtype=object)"
      ]
     },
     "execution_count": 17,
     "metadata": {},
     "output_type": "execute_result"
    }
   ],
   "source": [
    "data['variety'].unique()"
   ]
  },
  {
   "cell_type": "code",
   "execution_count": 21,
   "id": "b1aeb5d7-aba4-4a19-a79a-2144ba6a45f3",
   "metadata": {},
   "outputs": [
    {
     "data": {
      "text/plain": [
       "age\n",
       "70    3077\n",
       "60    1660\n",
       "50    1066\n",
       "75     866\n",
       "65     774\n",
       "55     563\n",
       "72     552\n",
       "45     505\n",
       "67     415\n",
       "68     253\n",
       "80     225\n",
       "57     213\n",
       "47     112\n",
       "77      42\n",
       "73      38\n",
       "66      36\n",
       "62       5\n",
       "82       5\n",
       "Name: count, dtype: int64"
      ]
     },
     "execution_count": 21,
     "metadata": {},
     "output_type": "execute_result"
    }
   ],
   "source": [
    "data['age'].value_counts()"
   ]
  },
  {
   "cell_type": "code",
   "execution_count": 42,
   "id": "93f286f5-ca92-45fa-8bab-2624c01611b7",
   "metadata": {},
   "outputs": [
    {
     "data": {
      "image/png": "[encoded data removed]",
      "text/plain": [
       "<Figure size 1200x600 with 1 Axes>"
      ]
     },
     "metadata": {},
     "output_type": "display_data"
    }
   ],
   "source": [
    "fig, axes = plt.subplots(1, 1, figsize=(12, 6))\n",
    "sns.countplot(data=data, x='variety', ax=axes, palette='dark')\n",
    "plt.title(\"Varient\")\n",
    "plt.show()\n"
   ]
  },
  {
   "cell_type": "code",
   "execution_count": 48,
   "id": "1b19cbcf-8071-4fe7-862e-db1b38fcffe6",
   "metadata": {},
   "outputs": [
    {
     "data": {
      "text/plain": [
       "<Axes: xlabel='label', ylabel='count'>"
      ]
     },
     "execution_count": 48,
     "metadata": {},
     "output_type": "execute_result"
    },
    {
     "data": {
      "image/png": "[encoded data removed]",
      "text/plain": [
       "<Figure size 1200x600 with 1 Axes>"
      ]
     },
     "metadata": {},
     "output_type": "display_data"
    }
   ],
   "source": [
    "fig,axes=plt.subplots(1,1, figsize=(12,6))\n",
    "sns.countplot(data=data,x='label',ax=axes,palette='dark')\n",
    "                      "
   ]
  },
  {
   "cell_type": "code",
   "execution_count": null,
   "id": "d3b289c8-102c-4a67-ae9c-11e83baa51e1",
   "metadata": {},
   "outputs": [],
   "source": []
  }
 ],
 "metadata": {
  "kernelspec": {
   "display_name": "Python 3 (ipykernel)",
   "language": "python",
   "name": "python3"
  },
  "language_info": {
   "codemirror_mode": {
    "name": "ipython",
    "version": 3
   },
   "file_extension": ".py",
   "mimetype": "text/x-python",
   "name": "python",
   "nbconvert_exporter": "python",
   "pygments_lexer": "ipython3",
   "version": "3.8.2"
  }
 },
 "nbformat": 4,
 "nbformat_minor": 5
}
